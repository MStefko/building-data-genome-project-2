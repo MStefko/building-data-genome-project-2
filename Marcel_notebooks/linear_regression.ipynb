{
 "cells": [
  {
   "cell_type": "markdown",
   "metadata": {},
   "source": [
    "# L1 regression of mean energy consumption"
   ]
  },
  {
   "cell_type": "code",
   "execution_count": 7,
   "metadata": {},
   "outputs": [],
   "source": [
    " # data and numbers\n",
    "import numpy as np\n",
    "import pandas as pd\n",
    "import datetime as dt\n",
    "\n",
    "# Visualization\n",
    "import matplotlib.pyplot as plt\n",
    "import matplotlib as mpl\n",
    "from matplotlib import ticker\n",
    "import matplotlib.dates as mdates\n",
    "%matplotlib inline\n",
    "\n",
    "import pandas as pd\n",
    "from sklearn import preprocessing"
   ]
  },
  {
   "cell_type": "code",
   "execution_count": 8,
   "metadata": {},
   "outputs": [],
   "source": [
    "path_raw = \"..//data//meters//raw//\"\n",
    "path_meta = \"..//data//metadata//\"\n",
    "path_cleaned = \"..//data//meters//cleaned//\""
   ]
  },
  {
   "cell_type": "code",
   "execution_count": 9,
   "metadata": {},
   "outputs": [],
   "source": [
    "columns_to_use = [\n",
    "    \"building_id\",\n",
    "    #\"site_id\",\n",
    "    \"sqm\",\n",
    "    \"lat\",\n",
    "    \"lng\",\n",
    "    #\"timezone\",\n",
    "    \"industry\",\n",
    "    \"subindustry\",\n",
    "    \"heatingtype\",\n",
    "    #\"yearbuilt\",\n",
    "    #\"date_opened\",\n",
    "    #\"numberoffloors\",\n",
    "]"
   ]
  },
  {
   "cell_type": "code",
   "execution_count": 10,
   "metadata": {},
   "outputs": [
    {
     "name": "stderr",
     "output_type": "stream",
     "text": [
      "/tmp/ipykernel_268428/405337224.py:10: FutureWarning: A value is trying to be set on a copy of a DataFrame or Series through chained assignment using an inplace method.\n",
      "The behavior will change in pandas 3.0. This inplace method will never work because the intermediate object on which we are setting values always behaves as a copy.\n",
      "\n",
      "For example, when doing 'df[col].method(value, inplace=True)', try using 'df.method({col: value}, inplace=True)' or df[col] = df[col].method(value) instead, to perform the operation inplace on the original object.\n",
      "\n",
      "\n",
      "  meta[\"industry\"].fillna(\"None\", inplace=True)\n",
      "/tmp/ipykernel_268428/405337224.py:11: FutureWarning: A value is trying to be set on a copy of a DataFrame or Series through chained assignment using an inplace method.\n",
      "The behavior will change in pandas 3.0. This inplace method will never work because the intermediate object on which we are setting values always behaves as a copy.\n",
      "\n",
      "For example, when doing 'df[col].method(value, inplace=True)', try using 'df.method({col: value}, inplace=True)' or df[col] = df[col].method(value) instead, to perform the operation inplace on the original object.\n",
      "\n",
      "\n",
      "  meta[\"subindustry\"].fillna(\"None\", inplace=True)\n",
      "/tmp/ipykernel_268428/405337224.py:12: FutureWarning: A value is trying to be set on a copy of a DataFrame or Series through chained assignment using an inplace method.\n",
      "The behavior will change in pandas 3.0. This inplace method will never work because the intermediate object on which we are setting values always behaves as a copy.\n",
      "\n",
      "For example, when doing 'df[col].method(value, inplace=True)', try using 'df.method({col: value}, inplace=True)' or df[col] = df[col].method(value) instead, to perform the operation inplace on the original object.\n",
      "\n",
      "\n",
      "  meta[\"heatingtype\"].fillna(\"None\", inplace=True)\n"
     ]
    },
    {
     "name": "stdout",
     "output_type": "stream",
     "text": [
      "<class 'pandas.core.frame.DataFrame'>\n",
      "Index: 1636 entries, Panther_lodging_Dean to Mouse_science_Micheal\n",
      "Data columns (total 34 columns):\n",
      " #   Column                                             Non-Null Count  Dtype  \n",
      "---  ------                                             --------------  -----  \n",
      " 0   sqm                                                1636 non-null   float64\n",
      " 1   lat                                                1399 non-null   float64\n",
      " 2   lng                                                1399 non-null   float64\n",
      " 3   industry_Education                                 1636 non-null   bool   \n",
      " 4   industry_Government                                1636 non-null   bool   \n",
      " 5   industry_Healthcare                                1636 non-null   bool   \n",
      " 6   industry_Hospitality                               1636 non-null   bool   \n",
      " 7   industry_None                                      1636 non-null   bool   \n",
      " 8   subindustry_Animal Control                         1636 non-null   bool   \n",
      " 9   subindustry_City, County, State                    1636 non-null   bool   \n",
      " 10  subindustry_College/University                     1636 non-null   bool   \n",
      " 11  subindustry_Hospital                               1636 non-null   bool   \n",
      " 12  subindustry_Hotel                                  1636 non-null   bool   \n",
      " 13  subindustry_Laboratory                             1636 non-null   bool   \n",
      " 14  subindustry_Library                                1636 non-null   bool   \n",
      " 15  subindustry_None                                   1636 non-null   bool   \n",
      " 16  subindustry_Other Government Buildings             1636 non-null   bool   \n",
      " 17  subindustry_Primary/Secondary School               1636 non-null   bool   \n",
      " 18  subindustry_Public Assembly                        1636 non-null   bool   \n",
      " 19  subindustry_Social Services                        1636 non-null   bool   \n",
      " 20  subindustry_Water & Wastewater Treatment Facility  1636 non-null   bool   \n",
      " 21  heatingtype_Biomass                                1636 non-null   bool   \n",
      " 22  heatingtype_Boiler fed central heating             1636 non-null   bool   \n",
      " 23  heatingtype_District Heating                       1636 non-null   bool   \n",
      " 24  heatingtype_Electric                               1636 non-null   bool   \n",
      " 25  heatingtype_Electricity                            1636 non-null   bool   \n",
      " 26  heatingtype_Gas                                    1636 non-null   bool   \n",
      " 27  heatingtype_Gas Boilers                            1636 non-null   bool   \n",
      " 28  heatingtype_Heat network                           1636 non-null   bool   \n",
      " 29  heatingtype_Heat network and steam                 1636 non-null   bool   \n",
      " 30  heatingtype_Heat network but not ours              1636 non-null   bool   \n",
      " 31  heatingtype_None                                   1636 non-null   bool   \n",
      " 32  heatingtype_Oil                                    1636 non-null   bool   \n",
      " 33  heatingtype_Steam                                  1636 non-null   bool   \n",
      "dtypes: bool(31), float64(3)\n",
      "memory usage: 100.7+ KB\n",
      "<class 'pandas.core.frame.DataFrame'>\n",
      "DatetimeIndex: 17544 entries, 2016-01-01 00:00:00 to 2017-12-31 23:00:00\n",
      "Columns: 1578 entries, Panther_parking_Lorriane to Mouse_science_Micheal\n",
      "dtypes: float64(1578)\n",
      "memory usage: 211.3 MB\n"
     ]
    }
   ],
   "source": [
    "meta = pd.read_csv(\n",
    "    path_meta + \"metadata.csv\",\n",
    "    usecols=columns_to_use,\n",
    "    index_col=\"building_id\"\n",
    ")\n",
    "\n",
    "meta_base = meta.copy()\n",
    "\n",
    "# replace missing values in \"industry\" and \"subindustry\" columns with \"None\"\n",
    "meta[\"industry\"].fillna(\"None\", inplace=True)\n",
    "meta[\"subindustry\"].fillna(\"None\", inplace=True)\n",
    "meta[\"heatingtype\"].fillna(\"None\", inplace=True)\n",
    "\n",
    "meta = pd.get_dummies(meta)\n",
    "meta.info()\n",
    "meta.head()\n",
    "\n",
    "def import_data(metername):\n",
    "    # load data\n",
    "    df = pd.read_csv(path_cleaned + metername + \".csv\")\n",
    "    \n",
    "    # Transform timestamp to datetime object type\n",
    "    df[\"timestamp\"] = pd.to_datetime(df[\"timestamp\"], format=\"%Y-%m-%d %H:%M:%S\")\n",
    "    df.set_index(\"timestamp\", inplace=True)\n",
    "    df.info()\n",
    "    return df\n",
    "\n",
    "sensor_data = import_data(\"electricity_cleaned\")\n",
    "\n",
    "# from meta, drop rows that are not in sensor_data index\n",
    "meta = meta[meta.index.isin(sensor_data.columns)]\n",
    "\n",
    "# standardize the data\n",
    "scaler = preprocessing.StandardScaler()\n",
    "meta_scaled = scaler.fit_transform(meta)\n",
    "meta_scaled = pd.DataFrame(meta_scaled, columns=meta.columns, index=meta.index)\n",
    "meta_scaled.head()\n",
    "\n",
    "\n",
    "# split meta into train and test with sklearn\n",
    "from sklearn.model_selection import train_test_split\n",
    "train, test = train_test_split(meta_scaled, test_size=0.2, random_state=42)"
   ]
  },
  {
   "cell_type": "code",
   "execution_count": 11,
   "metadata": {},
   "outputs": [
    {
     "name": "stdout",
     "output_type": "stream",
     "text": [
      "<class 'pandas.core.series.Series'>\n",
      "Index: 1578 entries, Panther_parking_Lorriane to Mouse_science_Micheal\n",
      "Series name: None\n",
      "Non-Null Count  Dtype  \n",
      "--------------  -----  \n",
      "1572 non-null   float64\n",
      "dtypes: float64(1)\n",
      "memory usage: 89.2+ KB\n",
      "Panther_parking_Lorriane      10.722723\n",
      "Panther_lodging_Cora         135.054565\n",
      "Panther_office_Hannah          6.683938\n",
      "Panther_lodging_Hattie       140.593488\n",
      "Panther_education_Teofila    156.466222\n",
      "                                ...    \n",
      "Mouse_lodging_Vicente         45.767561\n",
      "Mouse_health_Justin          783.350343\n",
      "Mouse_health_Ileana           43.587324\n",
      "Mouse_health_Estela          384.684218\n",
      "Mouse_science_Micheal        435.844964\n",
      "Length: 1578, dtype: float64\n"
     ]
    }
   ],
   "source": [
    "mean_sensor_data = sensor_data.mean()\n",
    "mean_sensor_data.info()\n",
    "print(mean_sensor_data)\n"
   ]
  },
  {
   "cell_type": "code",
   "execution_count": 16,
   "metadata": {},
   "outputs": [
    {
     "data": {
      "image/png": "[encoded data removed]",
      "text/plain": [
       "<Figure size 1200x600 with 1 Axes>"
      ]
     },
     "metadata": {},
     "output_type": "display_data"
    },
    {
     "name": "stdout",
     "output_type": "stream",
     "text": [
      "Most important features:\n"
     ]
    },
    {
     "data": {
      "text/plain": [
       "sqm                                                  162.292285\n",
       "lat                                                   22.584882\n",
       "heatingtype_District Heating                           9.048579\n",
       "heatingtype_Heat network                               8.980786\n",
       "heatingtype_Heat network and steam                     6.429318\n",
       "subindustry_Laboratory                                 3.373680\n",
       "subindustry_College/University                         1.437939\n",
       "heatingtype_Oil                                        0.812615\n",
       "subindustry_Water & Wastewater Treatment Facility      0.079389\n",
       "heatingtype_None                                       0.000000\n",
       "heatingtype_Heat network but not ours                  0.000000\n",
       "heatingtype_Gas Boilers                               -0.000000\n",
       "heatingtype_Electricity                                0.000000\n",
       "heatingtype_Electric                                  -0.000000\n",
       "heatingtype_Boiler fed central heating                -0.000000\n",
       "dtype: float64"
      ]
     },
     "execution_count": 16,
     "metadata": {},
     "output_type": "execute_result"
    }
   ],
   "source": [
    "#Impute the NaN values in train and test\n",
    "from sklearn.experimental import enable_iterative_imputer\n",
    "from sklearn.impute import IterativeImputer\n",
    "imputer = IterativeImputer()\n",
    "train_imputed = imputer.fit_transform(train)\n",
    "test_imputed = imputer.transform(test)\n",
    "\n",
    "train_imputed = pd.DataFrame(train_imputed, columns=train.columns)\n",
    "test_imputed = pd.DataFrame(test_imputed, columns=test.columns)\n",
    "\n",
    "train_imputed.index = train.index\n",
    "test_imputed.index = test.index\n",
    "\n",
    "#train_imputed.head()\n",
    "\n",
    "train = train_imputed\n",
    "test = test_imputed\n",
    "\n",
    "train[\"mean_sensor_data\"] = mean_sensor_data\n",
    "test[\"mean_sensor_data\"] = mean_sensor_data\n",
    "\n",
    "train.dropna(inplace=True)\n",
    "test.dropna(inplace=True)\n",
    "\n",
    "\n",
    "\n",
    "#train.info()\n",
    "#train.head()\n",
    "\n",
    "# Train linear regression model using L1 regularization on dataframe train, where column mean_sensor_data is the target\n",
    "from sklearn.linear_model import Lasso, ElasticNet\n",
    "\n",
    "lasso_model = Lasso(alpha=1)\n",
    "lasso_model.fit(train.drop(columns=[\"mean_sensor_data\"]), train[\"mean_sensor_data\"])\n",
    "\n",
    "# Predict mean_sensor_data on test\n",
    "predict = lasso_model.predict(test.drop(columns=[\"mean_sensor_data\"]))\n",
    "predict = pd.Series(predict, index=test.index)\n",
    "\n",
    "# Visualize the results\n",
    "plt.figure(figsize=(12, 6))\n",
    "plt.scatter(test[\"mean_sensor_data\"], predict)\n",
    "plt.xlabel(\"True electricity consumption [kW]\")\n",
    "plt.ylabel(\"Predicted electricity consumption [kW]\")\n",
    "plt.title(\"ElasticNet model prediction\")\n",
    "# set axis equal\n",
    "plt.gca().set_aspect(\"equal\")\n",
    "plt.show()\n",
    "\n",
    "# Identify most important features\n",
    "print(\"Most important features:\")\n",
    "feature_importance = pd.Series(lasso_model.coef_, index=train.drop(columns=[\"mean_sensor_data\"]).columns)\n",
    "feature_importance.sort_values(ascending=False, inplace=True)\n",
    "feature_importance.head(15)\n",
    "\n",
    "# Iterative imputer\n",
    "\n"
   ]
  }
 ],
 "metadata": {
  "kernelspec": {
   "display_name": "llm_tutorial",
   "language": "python",
   "name": "python3"
  },
  "language_info": {
   "codemirror_mode": {
    "name": "ipython",
    "version": 3
   },
   "file_extension": ".py",
   "mimetype": "text/x-python",
   "name": "python",
   "nbconvert_exporter": "python",
   "pygments_lexer": "ipython3",
   "version": "3.12.4"
  }
 },
 "nbformat": 4,
 "nbformat_minor": 2
}
